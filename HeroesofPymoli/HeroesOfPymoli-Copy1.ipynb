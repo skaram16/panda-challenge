{
 "cells": [
  {
   "cell_type": "code",
   "execution_count": 1,
   "metadata": {},
   "outputs": [
    {
     "data": {
      "text/html": [
       "<div>\n",
       "<style scoped>\n",
       "    .dataframe tbody tr th:only-of-type {\n",
       "        vertical-align: middle;\n",
       "    }\n",
       "\n",
       "    .dataframe tbody tr th {\n",
       "        vertical-align: top;\n",
       "    }\n",
       "\n",
       "    .dataframe thead th {\n",
       "        text-align: right;\n",
       "    }\n",
       "</style>\n",
       "<table border=\"1\" class=\"dataframe\">\n",
       "  <thead>\n",
       "    <tr style=\"text-align: right;\">\n",
       "      <th></th>\n",
       "      <th>Purchase ID</th>\n",
       "      <th>SN</th>\n",
       "      <th>Age</th>\n",
       "      <th>Gender</th>\n",
       "      <th>Item ID</th>\n",
       "      <th>Item Name</th>\n",
       "      <th>Price</th>\n",
       "    </tr>\n",
       "  </thead>\n",
       "  <tbody>\n",
       "    <tr>\n",
       "      <th>0</th>\n",
       "      <td>0</td>\n",
       "      <td>Lisim78</td>\n",
       "      <td>20</td>\n",
       "      <td>Male</td>\n",
       "      <td>108</td>\n",
       "      <td>Extraction, Quickblade Of Trembling Hands</td>\n",
       "      <td>3.53</td>\n",
       "    </tr>\n",
       "    <tr>\n",
       "      <th>1</th>\n",
       "      <td>1</td>\n",
       "      <td>Lisovynya38</td>\n",
       "      <td>40</td>\n",
       "      <td>Male</td>\n",
       "      <td>143</td>\n",
       "      <td>Frenzied Scimitar</td>\n",
       "      <td>1.56</td>\n",
       "    </tr>\n",
       "    <tr>\n",
       "      <th>2</th>\n",
       "      <td>2</td>\n",
       "      <td>Ithergue48</td>\n",
       "      <td>24</td>\n",
       "      <td>Male</td>\n",
       "      <td>92</td>\n",
       "      <td>Final Critic</td>\n",
       "      <td>4.88</td>\n",
       "    </tr>\n",
       "    <tr>\n",
       "      <th>3</th>\n",
       "      <td>3</td>\n",
       "      <td>Chamassasya86</td>\n",
       "      <td>24</td>\n",
       "      <td>Male</td>\n",
       "      <td>100</td>\n",
       "      <td>Blindscythe</td>\n",
       "      <td>3.27</td>\n",
       "    </tr>\n",
       "    <tr>\n",
       "      <th>4</th>\n",
       "      <td>4</td>\n",
       "      <td>Iskosia90</td>\n",
       "      <td>23</td>\n",
       "      <td>Male</td>\n",
       "      <td>131</td>\n",
       "      <td>Fury</td>\n",
       "      <td>1.44</td>\n",
       "    </tr>\n",
       "  </tbody>\n",
       "</table>\n",
       "</div>"
      ],
      "text/plain": [
       "   Purchase ID             SN  Age Gender  Item ID  \\\n",
       "0            0        Lisim78   20   Male      108   \n",
       "1            1    Lisovynya38   40   Male      143   \n",
       "2            2     Ithergue48   24   Male       92   \n",
       "3            3  Chamassasya86   24   Male      100   \n",
       "4            4      Iskosia90   23   Male      131   \n",
       "\n",
       "                                   Item Name  Price  \n",
       "0  Extraction, Quickblade Of Trembling Hands   3.53  \n",
       "1                          Frenzied Scimitar   1.56  \n",
       "2                               Final Critic   4.88  \n",
       "3                                Blindscythe   3.27  \n",
       "4                                       Fury   1.44  "
      ]
     },
     "execution_count": 1,
     "metadata": {},
     "output_type": "execute_result"
    }
   ],
   "source": [
    "#set up the dependencies\n",
    "import pandas as pd\n",
    "import numpy as np\n",
    "\n",
    "#create a file path\n",
    "heroes_path = \"Resources/purchase_data.csv\"\n",
    "\n",
    "#read the file and create a table \n",
    "purchase_game = pd.read_csv(heroes_path)\n",
    "purchase_game_df = pd.DataFrame(purchase_game)\n",
    "purchase_game_df.head()"
   ]
  },
  {
   "cell_type": "code",
   "execution_count": 2,
   "metadata": {},
   "outputs": [
    {
     "data": {
      "text/plain": [
       "780"
      ]
     },
     "execution_count": 2,
     "metadata": {},
     "output_type": "execute_result"
    }
   ],
   "source": [
    "#determine the number of players\n",
    "players_total_amount = purchase_game_df[\"SN\"].count()\n",
    "players_total_amount"
   ]
  },
  {
   "cell_type": "code",
   "execution_count": 3,
   "metadata": {},
   "outputs": [
    {
     "data": {
      "text/html": [
       "<div>\n",
       "<style scoped>\n",
       "    .dataframe tbody tr th:only-of-type {\n",
       "        vertical-align: middle;\n",
       "    }\n",
       "\n",
       "    .dataframe tbody tr th {\n",
       "        vertical-align: top;\n",
       "    }\n",
       "\n",
       "    .dataframe thead th {\n",
       "        text-align: right;\n",
       "    }\n",
       "</style>\n",
       "<table border=\"1\" class=\"dataframe\">\n",
       "  <thead>\n",
       "    <tr style=\"text-align: right;\">\n",
       "      <th></th>\n",
       "      <th>Number of Unique Items</th>\n",
       "      <th>Average Prices</th>\n",
       "      <th>Number of Purchases</th>\n",
       "      <th>Total Revenue</th>\n",
       "    </tr>\n",
       "  </thead>\n",
       "  <tbody>\n",
       "    <tr>\n",
       "      <th>0</th>\n",
       "      <td>179</td>\n",
       "      <td>$3.05</td>\n",
       "      <td>780</td>\n",
       "      <td>$2,379.77</td>\n",
       "    </tr>\n",
       "  </tbody>\n",
       "</table>\n",
       "</div>"
      ],
      "text/plain": [
       "   Number of Unique Items Average Prices  Number of Purchases Total Revenue\n",
       "0                     179          $3.05                  780     $2,379.77"
      ]
     },
     "execution_count": 3,
     "metadata": {},
     "output_type": "execute_result"
    }
   ],
   "source": [
    "#calculate total number of unique items\n",
    "unique_items = len(purchase_game_df[\"Item ID\"].unique())\n",
    "unique_items\n",
    "\n",
    "#calculate the total number of purchases\n",
    "purchase_total = purchase_game_df[\"Purchase ID\"].count()\n",
    "purchase_total\n",
    "\n",
    "#calculate the total revenue for game\n",
    "total_revenue = purchase_game_df[\"Price\"].sum()\n",
    "total_revenue\n",
    "\n",
    "#calculate the average price\n",
    "average_prices1 = purchase_game_df[\"Price\"].mean()\n",
    "average_prices1\n",
    "\n",
    "average_prices2 = total_revenue/purchase_total\n",
    "average_prices2\n",
    "\n",
    "#average_prices1 = average_prices2\n",
    "\n",
    "#create a summary for the data as a frame format\n",
    "purchase_analysis_df = pd.DataFrame([{\"Number of Unique Items\": unique_items, \"Average Prices\" : average_prices1, \"Number of Purchases\" : purchase_total, \"Total Revenue\" : total_revenue}])\n",
    "purchase_analysis_df[\"Average Prices\"] = purchase_analysis_df[\"Average Prices\"].map(\"${:,.2f}\".format)\n",
    "purchase_analysis_df[\"Total Revenue\"] = purchase_analysis_df[\"Total Revenue\"].map(\"${:,.2f}\".format)\n",
    "purchase_analysis_df\n",
    "\n",
    "#reset the column order for the summary data frame\n",
    "organize_purchase_analysis_df = purchase_analysis_df[[\"Number of Unique Items\" , \"Average Prices\" , \"Number of Purchases\" , \"Total Revenue\"]]\n",
    "organize_purchase_analysis_df"
   ]
  },
  {
   "cell_type": "code",
   "execution_count": 4,
   "metadata": {},
   "outputs": [
    {
     "data": {
      "text/html": [
       "<div>\n",
       "<style scoped>\n",
       "    .dataframe tbody tr th:only-of-type {\n",
       "        vertical-align: middle;\n",
       "    }\n",
       "\n",
       "    .dataframe tbody tr th {\n",
       "        vertical-align: top;\n",
       "    }\n",
       "\n",
       "    .dataframe thead th {\n",
       "        text-align: right;\n",
       "    }\n",
       "</style>\n",
       "<table border=\"1\" class=\"dataframe\">\n",
       "  <thead>\n",
       "    <tr style=\"text-align: right;\">\n",
       "      <th></th>\n",
       "      <th>Percentage of Players</th>\n",
       "      <th>Total Counts</th>\n",
       "    </tr>\n",
       "  </thead>\n",
       "  <tbody>\n",
       "    <tr>\n",
       "      <th>Male</th>\n",
       "      <td>83.59%</td>\n",
       "      <td>652</td>\n",
       "    </tr>\n",
       "    <tr>\n",
       "      <th>Female</th>\n",
       "      <td>14.49%</td>\n",
       "      <td>113</td>\n",
       "    </tr>\n",
       "    <tr>\n",
       "      <th>Other / Non-Disclosed</th>\n",
       "      <td>1.92%</td>\n",
       "      <td>15</td>\n",
       "    </tr>\n",
       "  </tbody>\n",
       "</table>\n",
       "</div>"
      ],
      "text/plain": [
       "                      Percentage of Players  Total Counts\n",
       "Male                                 83.59%           652\n",
       "Female                               14.49%           113\n",
       "Other / Non-Disclosed                 1.92%            15"
      ]
     },
     "execution_count": 4,
     "metadata": {},
     "output_type": "execute_result"
    }
   ],
   "source": [
    "#calculate gender differences between players\n",
    "gender_df = pd.DataFrame(purchase_game_df[\"Gender\"].value_counts())\n",
    "gender_df\n",
    "\n",
    "gender_percentage = (purchase_game_df[\"Gender\"].value_counts()/players_total_amount)*100\n",
    "gender_percentage\n",
    "\n",
    "#take the calculations and add them to the data frame as new column\n",
    "gender_df[\"Percentage of Players\"] = gender_percentage\n",
    "gender_df[\"Percentage of Players\"] = gender_df[\"Percentage of Players\"].map(\"{:,.2f}%\".format)\n",
    "gender_df\n",
    "\n",
    "#re-organize the order of the columns\n",
    "organize_gender_df = gender_df[[\"Percentage of Players\" , \"Gender\"]]\n",
    "organize_gender_df\n",
    "\n",
    "#rename the columns using the .rename command\n",
    "final_gender_df = organize_gender_df.rename(columns={\"Gender\" : \"Total Counts\"})\n",
    "final_gender_df"
   ]
  },
  {
   "cell_type": "code",
   "execution_count": 5,
   "metadata": {},
   "outputs": [
    {
     "data": {
      "text/plain": [
       "Gender\n",
       "Female                   113\n",
       "Male                     652\n",
       "Other / Non-Disclosed     15\n",
       "Name: Purchase ID, dtype: int64"
      ]
     },
     "execution_count": 5,
     "metadata": {},
     "output_type": "execute_result"
    }
   ],
   "source": [
    "#use the group by function to separate the data into fields with Gender values\n",
    "gender_purchased_data_df = purchase_game_df.groupby([\"Gender\"])\n",
    "\n",
    "#print(gender_purchcased_data_df) by using a function\n",
    "gender_purchased_data_df[\"Purchase ID\"].count().head(10)\n",
    "\n",
    "#calculate the total purchase value by gender\n"
   ]
  },
  {
   "cell_type": "code",
   "execution_count": null,
   "metadata": {},
   "outputs": [],
   "source": []
  }
 ],
 "metadata": {
  "kernelspec": {
   "display_name": "Python 3",
   "language": "python",
   "name": "python3"
  },
  "language_info": {
   "codemirror_mode": {
    "name": "ipython",
    "version": 3
   },
   "file_extension": ".py",
   "mimetype": "text/x-python",
   "name": "python",
   "nbconvert_exporter": "python",
   "pygments_lexer": "ipython3",
   "version": "3.8.5"
  }
 },
 "nbformat": 4,
 "nbformat_minor": 4
}
