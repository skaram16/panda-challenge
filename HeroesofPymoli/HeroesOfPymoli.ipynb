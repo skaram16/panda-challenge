{
 "cells": [
  {
   "cell_type": "markdown",
   "metadata": {},
   "source": [
    "#### Created by: Sabrina Karam\n",
    "\n",
    "## Heroes of Pymoli Data Analysis\n",
    "\n",
    "- There are 576 players who are active in the game; out of the total players the majority are males taking up 84% of the population while female players take up approximately 14%.\n",
    "\n",
    "- The peak age demographic would be between the ages of 20-24 years old (47%) and the other group would be teenages in between 15-19 years old (~18%)."
   ]
  },
  {
   "cell_type": "code",
   "execution_count": 1,
   "metadata": {},
   "outputs": [],
   "source": [
    "#set up the dependencies\n",
    "import pandas as pd\n",
    "import numpy as np"
   ]
  },
  {
   "cell_type": "code",
   "execution_count": 2,
   "metadata": {},
   "outputs": [],
   "source": [
    "#create a file path\n",
    "heroes_path = \"Resources/purchase_data.csv\""
   ]
  },
  {
   "cell_type": "code",
   "execution_count": 3,
   "metadata": {},
   "outputs": [
    {
     "data": {
      "text/html": [
       "<div>\n",
       "<style scoped>\n",
       "    .dataframe tbody tr th:only-of-type {\n",
       "        vertical-align: middle;\n",
       "    }\n",
       "\n",
       "    .dataframe tbody tr th {\n",
       "        vertical-align: top;\n",
       "    }\n",
       "\n",
       "    .dataframe thead th {\n",
       "        text-align: right;\n",
       "    }\n",
       "</style>\n",
       "<table border=\"1\" class=\"dataframe\">\n",
       "  <thead>\n",
       "    <tr style=\"text-align: right;\">\n",
       "      <th></th>\n",
       "      <th>Purchase ID</th>\n",
       "      <th>SN</th>\n",
       "      <th>Age</th>\n",
       "      <th>Gender</th>\n",
       "      <th>Item ID</th>\n",
       "      <th>Item Name</th>\n",
       "      <th>Price</th>\n",
       "    </tr>\n",
       "  </thead>\n",
       "  <tbody>\n",
       "    <tr>\n",
       "      <th>0</th>\n",
       "      <td>0</td>\n",
       "      <td>Lisim78</td>\n",
       "      <td>20</td>\n",
       "      <td>Male</td>\n",
       "      <td>108</td>\n",
       "      <td>Extraction, Quickblade Of Trembling Hands</td>\n",
       "      <td>3.53</td>\n",
       "    </tr>\n",
       "    <tr>\n",
       "      <th>1</th>\n",
       "      <td>1</td>\n",
       "      <td>Lisovynya38</td>\n",
       "      <td>40</td>\n",
       "      <td>Male</td>\n",
       "      <td>143</td>\n",
       "      <td>Frenzied Scimitar</td>\n",
       "      <td>1.56</td>\n",
       "    </tr>\n",
       "    <tr>\n",
       "      <th>2</th>\n",
       "      <td>2</td>\n",
       "      <td>Ithergue48</td>\n",
       "      <td>24</td>\n",
       "      <td>Male</td>\n",
       "      <td>92</td>\n",
       "      <td>Final Critic</td>\n",
       "      <td>4.88</td>\n",
       "    </tr>\n",
       "    <tr>\n",
       "      <th>3</th>\n",
       "      <td>3</td>\n",
       "      <td>Chamassasya86</td>\n",
       "      <td>24</td>\n",
       "      <td>Male</td>\n",
       "      <td>100</td>\n",
       "      <td>Blindscythe</td>\n",
       "      <td>3.27</td>\n",
       "    </tr>\n",
       "    <tr>\n",
       "      <th>4</th>\n",
       "      <td>4</td>\n",
       "      <td>Iskosia90</td>\n",
       "      <td>23</td>\n",
       "      <td>Male</td>\n",
       "      <td>131</td>\n",
       "      <td>Fury</td>\n",
       "      <td>1.44</td>\n",
       "    </tr>\n",
       "  </tbody>\n",
       "</table>\n",
       "</div>"
      ],
      "text/plain": [
       "   Purchase ID             SN  Age Gender  Item ID  \\\n",
       "0            0        Lisim78   20   Male      108   \n",
       "1            1    Lisovynya38   40   Male      143   \n",
       "2            2     Ithergue48   24   Male       92   \n",
       "3            3  Chamassasya86   24   Male      100   \n",
       "4            4      Iskosia90   23   Male      131   \n",
       "\n",
       "                                   Item Name  Price  \n",
       "0  Extraction, Quickblade Of Trembling Hands   3.53  \n",
       "1                          Frenzied Scimitar   1.56  \n",
       "2                               Final Critic   4.88  \n",
       "3                                Blindscythe   3.27  \n",
       "4                                       Fury   1.44  "
      ]
     },
     "execution_count": 3,
     "metadata": {},
     "output_type": "execute_result"
    }
   ],
   "source": [
    "#read the file and create a table\n",
    "purchase_game = pd.read_csv(heroes_path)\n",
    "purchase_game_df = pd.DataFrame(purchase_game)\n",
    "purchase_game_df.head()"
   ]
  },
  {
   "cell_type": "code",
   "execution_count": 4,
   "metadata": {},
   "outputs": [
    {
     "data": {
      "text/html": [
       "<div>\n",
       "<style scoped>\n",
       "    .dataframe tbody tr th:only-of-type {\n",
       "        vertical-align: middle;\n",
       "    }\n",
       "\n",
       "    .dataframe tbody tr th {\n",
       "        vertical-align: top;\n",
       "    }\n",
       "\n",
       "    .dataframe thead th {\n",
       "        text-align: right;\n",
       "    }\n",
       "</style>\n",
       "<table border=\"1\" class=\"dataframe\">\n",
       "  <thead>\n",
       "    <tr style=\"text-align: right;\">\n",
       "      <th></th>\n",
       "      <th>Total Players</th>\n",
       "    </tr>\n",
       "  </thead>\n",
       "  <tbody>\n",
       "    <tr>\n",
       "      <th>0</th>\n",
       "      <td>576</td>\n",
       "    </tr>\n",
       "  </tbody>\n",
       "</table>\n",
       "</div>"
      ],
      "text/plain": [
       "   Total Players\n",
       "0            576"
      ]
     },
     "execution_count": 4,
     "metadata": {},
     "output_type": "execute_result"
    }
   ],
   "source": [
    "#determine the number of players\n",
    "sum_of_players = len(purchase_game_df[\"SN\"].unique())\n",
    "sum_of_players\n",
    "\n",
    "player_count = pd.DataFrame({\"Total Players\": sum_of_players}, index = [0])\n",
    "player_count"
   ]
  },
  {
   "cell_type": "markdown",
   "metadata": {},
   "source": [
    "### Purchase Analysis\n",
    "\n",
    "- Ran basic calculations to determine the number of unique items, average price and other attributes to help create a DataFrame to hold the results\n",
    "\n",
    "\n",
    "- Cleaned up DataFrame to a more organized formatting\n",
    "\n",
    "\n",
    "- Display the DataFrame"
   ]
  },
  {
   "cell_type": "code",
   "execution_count": 5,
   "metadata": {},
   "outputs": [
    {
     "data": {
      "text/plain": [
       "179"
      ]
     },
     "execution_count": 5,
     "metadata": {},
     "output_type": "execute_result"
    }
   ],
   "source": [
    "#calculate total number of unique items\n",
    "unique_items = len(purchase_game_df[\"Item ID\"].unique())\n",
    "unique_items"
   ]
  },
  {
   "cell_type": "code",
   "execution_count": 6,
   "metadata": {},
   "outputs": [
    {
     "data": {
      "text/plain": [
       "780"
      ]
     },
     "execution_count": 6,
     "metadata": {},
     "output_type": "execute_result"
    }
   ],
   "source": [
    "#calculate the total number of purchases\n",
    "purchase_total = purchase_game_df[\"Purchase ID\"].count()\n",
    "purchase_total"
   ]
  },
  {
   "cell_type": "code",
   "execution_count": 7,
   "metadata": {},
   "outputs": [
    {
     "data": {
      "text/plain": [
       "2379.77"
      ]
     },
     "execution_count": 7,
     "metadata": {},
     "output_type": "execute_result"
    }
   ],
   "source": [
    "#calculate the total revenue for game\n",
    "total_revenue = purchase_game_df[\"Price\"].sum()\n",
    "total_revenue"
   ]
  },
  {
   "cell_type": "code",
   "execution_count": 8,
   "metadata": {},
   "outputs": [
    {
     "data": {
      "text/plain": [
       "3.050987179487176"
      ]
     },
     "execution_count": 8,
     "metadata": {},
     "output_type": "execute_result"
    }
   ],
   "source": [
    "#calculate the average price\n",
    "average_prices1 = purchase_game_df[\"Price\"].mean()\n",
    "average_prices1"
   ]
  },
  {
   "cell_type": "code",
   "execution_count": 9,
   "metadata": {},
   "outputs": [
    {
     "data": {
      "text/html": [
       "<div>\n",
       "<style scoped>\n",
       "    .dataframe tbody tr th:only-of-type {\n",
       "        vertical-align: middle;\n",
       "    }\n",
       "\n",
       "    .dataframe tbody tr th {\n",
       "        vertical-align: top;\n",
       "    }\n",
       "\n",
       "    .dataframe thead th {\n",
       "        text-align: right;\n",
       "    }\n",
       "</style>\n",
       "<table border=\"1\" class=\"dataframe\">\n",
       "  <thead>\n",
       "    <tr style=\"text-align: right;\">\n",
       "      <th></th>\n",
       "      <th>Number of Unique Items</th>\n",
       "      <th>Average Prices</th>\n",
       "      <th>Number of Purchases</th>\n",
       "      <th>Total Revenue</th>\n",
       "    </tr>\n",
       "  </thead>\n",
       "  <tbody>\n",
       "    <tr>\n",
       "      <th>0</th>\n",
       "      <td>179</td>\n",
       "      <td>$3.05</td>\n",
       "      <td>780</td>\n",
       "      <td>$2,379.77</td>\n",
       "    </tr>\n",
       "  </tbody>\n",
       "</table>\n",
       "</div>"
      ],
      "text/plain": [
       "   Number of Unique Items Average Prices  Number of Purchases Total Revenue\n",
       "0                     179          $3.05                  780     $2,379.77"
      ]
     },
     "execution_count": 9,
     "metadata": {},
     "output_type": "execute_result"
    }
   ],
   "source": [
    "#create a summary for the data as a frame format\n",
    "purchase_analysis_df = pd.DataFrame({\"Number of Unique Items\": unique_items, \"Average Prices\" : average_prices1, \"Number of Purchases\" : purchase_total, \"Total Revenue\" : total_revenue}, index=[0])\n",
    "purchase_analysis_df[\"Average Prices\"] = purchase_analysis_df[\"Average Prices\"].map(\"${:,.2f}\".format)\n",
    "purchase_analysis_df[\"Total Revenue\"] = purchase_analysis_df[\"Total Revenue\"].map(\"${:,.2f}\".format)\n",
    "purchase_analysis_df\n",
    "\n",
    "#reset the column order for the summary data frame\n",
    "organize_purchase_analysis_df = purchase_analysis_df[[\"Number of Unique Items\" , \"Average Prices\" , \"Number of Purchases\" , \"Total Revenue\"]]\n",
    "organize_purchase_analysis_df"
   ]
  },
  {
   "cell_type": "markdown",
   "metadata": {},
   "source": [
    "### GENDER DEMOGRAPHICS\n",
    "\n",
    "- Ran calculations to help calculate the number of unique, average price, and other attributes help create a DataFrame to hold all results\n",
    "\n",
    "\n",
    "- Percentage and Count of Male & Female Players\n",
    "\n",
    "\n",
    "- Percentage and Count of Other/Non-Disclosed Genders\n",
    "\n",
    "\n",
    "- Display the DataFrame"
   ]
  },
  {
   "cell_type": "code",
   "execution_count": 10,
   "metadata": {},
   "outputs": [
    {
     "data": {
      "text/html": [
       "<div>\n",
       "<style scoped>\n",
       "    .dataframe tbody tr th:only-of-type {\n",
       "        vertical-align: middle;\n",
       "    }\n",
       "\n",
       "    .dataframe tbody tr th {\n",
       "        vertical-align: top;\n",
       "    }\n",
       "\n",
       "    .dataframe thead th {\n",
       "        text-align: right;\n",
       "    }\n",
       "</style>\n",
       "<table border=\"1\" class=\"dataframe\">\n",
       "  <thead>\n",
       "    <tr style=\"text-align: right;\">\n",
       "      <th></th>\n",
       "      <th>Percentage of Players</th>\n",
       "      <th>Total Counts</th>\n",
       "    </tr>\n",
       "  </thead>\n",
       "  <tbody>\n",
       "    <tr>\n",
       "      <th>Male</th>\n",
       "      <td>113.19%</td>\n",
       "      <td>652</td>\n",
       "    </tr>\n",
       "    <tr>\n",
       "      <th>Female</th>\n",
       "      <td>19.62%</td>\n",
       "      <td>113</td>\n",
       "    </tr>\n",
       "    <tr>\n",
       "      <th>Other / Non-Disclosed</th>\n",
       "      <td>2.60%</td>\n",
       "      <td>15</td>\n",
       "    </tr>\n",
       "  </tbody>\n",
       "</table>\n",
       "</div>"
      ],
      "text/plain": [
       "                      Percentage of Players  Total Counts\n",
       "Male                                113.19%           652\n",
       "Female                               19.62%           113\n",
       "Other / Non-Disclosed                 2.60%            15"
      ]
     },
     "execution_count": 10,
     "metadata": {},
     "output_type": "execute_result"
    }
   ],
   "source": [
    "#calculate gender differences between players\n",
    "gender_df = pd.DataFrame(purchase_game_df[\"Gender\"].value_counts())\n",
    "gender_df\n",
    "\n",
    "gender_percentage = (purchase_game_df[\"Gender\"].value_counts()/sum_of_players)*100\n",
    "gender_percentage\n",
    "\n",
    "#take the calculations and add them to the data frame as new column\n",
    "gender_df[\"Percentage of Players\"] = gender_percentage\n",
    "gender_df[\"Percentage of Players\"] = gender_df[\"Percentage of Players\"].map(\"{:,.2f}%\".format)\n",
    "gender_df\n",
    "\n",
    "#re-organize the order of the columns\n",
    "organize_gender_df = gender_df[[\"Percentage of Players\" , \"Gender\"]]\n",
    "organize_gender_df\n",
    "\n",
    "#rename the columns using the .rename command\n",
    "final_gender_df = organize_gender_df.rename(columns={\"Gender\" : \"Total Counts\"})\n",
    "final_gender_df"
   ]
  },
  {
   "cell_type": "code",
   "execution_count": null,
   "metadata": {
    "scrolled": true
   },
   "outputs": [],
   "source": [
    "#use the group by function to separate the data into fields with Gender values\n",
    "gender_purchased_data_df = purchase_game_df.groupby([\"Gender\"])\n",
    "\n",
    "#print(gender_purchcased_data_df) by using a function\n",
    "gender_purchased_data_df[\"Purchase ID\"].count().head(10)"
   ]
  },
  {
   "cell_type": "code",
   "execution_count": null,
   "metadata": {},
   "outputs": [],
   "source": [
    "#calculate the total purchase value by gender\n",
    "total_purchase_value = gender_purchased_data_df[\"Price\"].sum()\n",
    "total_purchase_value.head()\n",
    "dlr_total_purchase_value = total_purchase_value.map(\"${:,.2f}\".format)\n",
    "dlr_total_purchase_value.head()"
   ]
  },
  {
   "cell_type": "code",
   "execution_count": null,
   "metadata": {},
   "outputs": [],
   "source": [
    "#calculate the average purchase price by gender\n",
    "average_purchase_price = gender_purchased_data_df[\"Price\"].mean()\n",
    "average_purchase_price.head()\n",
    "dlr_average_purchase_price = average_purchase_price.map(\"${:,.2f}\".format)\n",
    "dlr_average_purchase_price.head()"
   ]
  },
  {
   "cell_type": "code",
   "execution_count": null,
   "metadata": {},
   "outputs": [],
   "source": [
    "#total purchase value divided by purchase count by gender\n",
    "normalized_totals = total_purchase_value/gender_purchased_data_df[\"Purchase ID\"].count()\n",
    "dlr_normalized_totals = normalized_totals.map(\"${:,.2f}\".format)\n",
    "dlr_normalized_totals.head()"
   ]
  },
  {
   "cell_type": "code",
   "execution_count": null,
   "metadata": {},
   "outputs": [],
   "source": [
    "#organize the summary data for genders, and organize all columns in a Data Frame\n",
    "organize_gender_purchase_data_df = pd.DataFrame(gender_purchased_data_df[\"Purchase ID\"].count())\n",
    "organize_gender_purchase_data_df[\"Average Purchase Price\"] = dlr_average_purchase_price\n",
    "organize_gender_purchase_data_df[\"Total Purchase Values\"] = dlr_total_purchase_value\n",
    "organize_gender_purchase_data_df[\"Normalized Totals\"] = dlr_normalized_totals\n",
    "organize_gender_purchase_data_df"
   ]
  },
  {
   "cell_type": "code",
   "execution_count": null,
   "metadata": {},
   "outputs": [],
   "source": [
    "#calculate the summary of purchases DataFrame and group it by gender and rename columns\n",
    "summary_gender_data_df = organize_gender_purchase_data_df.rename(columns={\"Purchase ID\": \"Purchase Count\"})\n",
    "summary_gender_data_df"
   ]
  },
  {
   "cell_type": "markdown",
   "metadata": {},
   "source": [
    "### AGE DEMOGRAPHIC ANALYSIS\n",
    "\n",
    "- Created bins for the varying age brackets\n",
    "\n",
    "\n",
    "- Calculate numbers and percentages by varying age groups\n",
    "\n",
    "\n",
    "- Create the summary DataFrame to hold all results of calculations\n",
    "\n",
    "\n",
    "- Display the Age Demographics as a table"
   ]
  },
  {
   "cell_type": "code",
   "execution_count": null,
   "metadata": {},
   "outputs": [],
   "source": [
    "#create bins where the purchase data will be located\n",
    "age_bins = [0, 9.90, 14.90, 19.90, 24.90, 29.90, 34.90, 39.90, 99999]"
   ]
  },
  {
   "cell_type": "code",
   "execution_count": null,
   "metadata": {},
   "outputs": [],
   "source": [
    "#create names for the four bins\n",
    "group_names = [\"<10\", \"10-14\", \"15-19\", \"20-24\", \"25-29\", \"30-34\", \"35-39\", \"40+\"]\n",
    "group_by_age_purchase_data_df = purchase_game_df\n",
    "group_by_age_purchase_data_df[\"Age Summary\"] = pd.cut(group_by_age_purchase_data_df[\"Age\"], age_bins, labels=group_names)\n",
    "group_by_age_purchase_data_df"
   ]
  },
  {
   "cell_type": "code",
   "execution_count": null,
   "metadata": {},
   "outputs": [],
   "source": [
    "#calculate a group using the bins\n",
    "group_by_age_purchase_data_df = group_by_age_purchase_data_df.groupby(\"Age Summary\")\n",
    "group_by_age_purchase_data_df.count()"
   ]
  },
  {
   "cell_type": "code",
   "execution_count": null,
   "metadata": {},
   "outputs": [],
   "source": [
    "#utilize the new DataFrame\n",
    "age_summary_df = pd.DataFrame(group_by_age_purchase_data_df.count())\n",
    "age_summary_df"
   ]
  },
  {
   "cell_type": "code",
   "execution_count": null,
   "metadata": {},
   "outputs": [],
   "source": [
    "#calculations on columns of the summary DataFrame\n",
    "age_summary_df[\"Purchase ID\"] = (age_summary_df[\"Purchase ID\"]/sum_of_players)*100\n",
    "age_summary_df"
   ]
  },
  {
   "cell_type": "code",
   "execution_count": null,
   "metadata": {},
   "outputs": [],
   "source": [
    "#reformat numbers to percentages\n",
    "age_summary_df[\"Purchase ID\"] = age_summary_df[\"Purchase ID\"].map(\"{:,.2f}%\".format)\n",
    "age_summary_df"
   ]
  },
  {
   "cell_type": "code",
   "execution_count": null,
   "metadata": {},
   "outputs": [],
   "source": [
    "#reformat the table to only include columns of Age Summary, Purchase ID and write into DataFrame\n",
    "org_age_summary_df = age_summary_df[[\"Purchase ID\", \"SN\"]]\n",
    "org_age_summary_df"
   ]
  },
  {
   "cell_type": "code",
   "execution_count": null,
   "metadata": {},
   "outputs": [],
   "source": [
    "#rename the columns for age demographics using the .rename command\n",
    "final_group_summary_df = org_age_summary_df.rename(columns={\"Purchase ID\":\"Percentage of Players\", \"SN\":\"Total Count\"})\n",
    "final_group_summary_df"
   ]
  },
  {
   "cell_type": "markdown",
   "metadata": {},
   "source": [
    "### TOP SPENDORS ANALYSIS\n",
    "\n",
    "- Run all the basic calculations to create results in a table\n",
    "\n",
    "\n",
    "- Create a DataFrame for the summary of all results\n",
    "\n",
    "\n",
    "- Create a cleaner format DataFrame for the summary"
   ]
  },
  {
   "cell_type": "code",
   "execution_count": null,
   "metadata": {},
   "outputs": [],
   "source": [
    "#group the purchase data by player spendors(\"SN\")\n",
    "original_purchased_data_df = pd.DataFrame(purchase_game)\n",
    "original_purchased_data_df.head()"
   ]
  },
  {
   "cell_type": "code",
   "execution_count": null,
   "metadata": {},
   "outputs": [],
   "source": [
    "#group the \"SN\"\n",
    "group_SN_top_df = original_purchased_data_df.groupby(\"SN\")\n",
    "group_SN_top_df.count()"
   ]
  },
  {
   "cell_type": "code",
   "execution_count": null,
   "metadata": {},
   "outputs": [],
   "source": [
    "#start to work with the data created by new DataFrame\n",
    "analysis_by_spendor_df = pd.DataFrame(group_SN_top_df[\"Purchase ID\"].count())\n",
    "analysis_by_spendor_df"
   ]
  },
  {
   "cell_type": "code",
   "execution_count": null,
   "metadata": {},
   "outputs": [],
   "source": [
    "#get the total purchase value by SN\n",
    "total_value_purchase_SN = group_SN_top_df[\"Price\"].sum()\n",
    "total_value_purchase_SN\n",
    "dlr_total_value_purchase_SN = total_value_purchase_SN.map(\"${:,.2f}\".format)\n",
    "dlr_total_value_purchase_SN"
   ]
  },
  {
   "cell_type": "code",
   "execution_count": null,
   "metadata": {},
   "outputs": [],
   "source": [
    "#organize the top sender data summary and get all the columns into an organized DataFrame\n",
    "average_purchase_SN = group_SN_top_df[\"Price\"].mean()\n",
    "average_purchase_SN\n",
    "dlr_average_purchase_SN = average_purchase_SN.map(\"${:,.2f}\".format)\n",
    "dlr_average_purchase_SN"
   ]
  },
  {
   "cell_type": "code",
   "execution_count": null,
   "metadata": {},
   "outputs": [],
   "source": [
    "#organize the summary Top Spender data and get all columns to organize a new DataFrame with additional columns\n",
    "analysis_by_spendor_df[\"Average Purchase Price\"] = dlr_average_purchase_SN\n",
    "analysis_by_spendor_df[\"Total Purchase Value\"] = dlr_total_value_purchase_SN\n",
    "analysis_by_spendor_df"
   ]
  },
  {
   "cell_type": "code",
   "execution_count": null,
   "metadata": {},
   "outputs": [],
   "source": [
    "#summary of the top spendor analysis and grouped by SN and rename the columns\n",
    "summary_SN_purchased_data_df = analysis_by_spendor_df.rename(columns={\"Purchase ID\":\"Purchase Count\"})\n",
    "top5_spendors_df = summary_SN_purchased_data_df.sort_values(\"Total Purchase Value\", ascending=False)\n",
    "top5_spendors_df.head()"
   ]
  },
  {
   "cell_type": "code",
   "execution_count": null,
   "metadata": {},
   "outputs": [],
   "source": [
    "#group by item id and item name\n",
    "group_top_item_df = original_purchased_data_df.groupby([\"Item ID\", \"Item Name\"])\n",
    "group_top_item_df.count()"
   ]
  },
  {
   "cell_type": "markdown",
   "metadata": {},
   "source": [
    "### MOST PROFITABLE ITEMS\n",
    "\n",
    "- Sort the table from previous line that was created of the total purchase value in descending order\n",
    "\n",
    "- Give the data a cleaner formatting\n",
    "\n",
    "- Display a preview of the newly created DataFrame"
   ]
  },
  {
   "cell_type": "code",
   "execution_count": null,
   "metadata": {},
   "outputs": [],
   "source": [
    "#work with new data in DataFrame\n",
    "analysis_by_item_df = pd.DataFrame(group_top_item_df[\"Purchase ID\"].count())\n",
    "analysis_by_item_df"
   ]
  },
  {
   "cell_type": "code",
   "execution_count": null,
   "metadata": {},
   "outputs": [],
   "source": [
    "#calculate the new total purchase value by item\n",
    "total_item_purchase_value = group_top_item_df[\"Price\"].sum()\n",
    "total_item_purchase_value\n",
    "dlr_total_item_purchase_value = total_item_purchase_value.map(\"${:,.2f}\".format)\n",
    "dlr_total_item_purchase_value"
   ]
  },
  {
   "cell_type": "code",
   "execution_count": null,
   "metadata": {},
   "outputs": [],
   "source": [
    "#calculate the purchase price by item\n",
    "item_purchase_price = group_top_item_df[\"Price\"].mean()\n",
    "item_purchase_price\n",
    "dlr_item_purchase_price = item_purchase_price.map(\"${:,.2f}\".format)\n",
    "dlr_item_purchase_price"
   ]
  },
  {
   "cell_type": "code",
   "execution_count": null,
   "metadata": {},
   "outputs": [],
   "source": [
    "#re organize the item data into a summary and create columns for a new DataFrame\n",
    "analysis_by_item_df[\"Item Price\"] = dlr_item_purchase_price\n",
    "analysis_by_item_df[\"Total Purchase Value\"] = dlr_total_item_purchase_value\n",
    "analysis_by_item_df"
   ]
  },
  {
   "cell_type": "code",
   "execution_count": null,
   "metadata": {},
   "outputs": [],
   "source": [
    "#create a summary of most popular item analysis grouped by item\n",
    "item_sum_purchased_data_df = analysis_by_item_df.rename(columns={\"Purchase ID\":\"Purchase Count\"})\n",
    "top5_items_df = item_sum_purchased_data_df.sort_values(\"Purchase Count\", ascending=False)\n",
    "top5_items_df.head()"
   ]
  },
  {
   "cell_type": "code",
   "execution_count": null,
   "metadata": {},
   "outputs": [],
   "source": [
    "#create a total purchase price column in number form\n",
    "analysis_by_item_df[\"Total Purchase Value\"] = total_item_purchase_value\n",
    "analysis_by_item_df"
   ]
  },
  {
   "cell_type": "code",
   "execution_count": null,
   "metadata": {
    "scrolled": true
   },
   "outputs": [],
   "source": [
    "#have an analysis grouped by item and rename the Purchase ID column\n",
    "top5_items_df=item_sum_purchased_data_df.sort_values(\"Total Purchase Value\", ascending=False)\n",
    "\n",
    "\n",
    "#format the total purchase price to be in dollar form\n",
    "dlr_total_item_purchase_value = total_item_purchase_value.map(\"${:,.2f}\".format)\n",
    "top5_items_df[\"Total Purchase Value\"] = dlr_total_item_purchase_value\n",
    "top5_items_df.head()"
   ]
  },
  {
   "cell_type": "markdown",
   "metadata": {},
   "source": [
    "### CONCLUSIONS:\n",
    "\n",
    "- The largest part of the active player populations are males that take around 84% of the population while the female players take up around 14%.\n",
    "\n",
    "\n",
    "- The peak age demographic that was determined through the DataFrame fell between the ages of 20-24 years old which took up ~47% of all demographic groups. Right behind that group was the second age demographic of 15-19 year olds which took up around 17% of the age demographic.\n",
    "\n",
    "\n",
    "- There were 183 unique items offered in the game; the most popular ones were \"Oathbreaker, Last Hope of the Breaking Storm\" which sent in 51 dollars to the game, \"Nirvana\" and \"Fiery Glass Crusader\" bringing in both 44 and 41 dollars each respectively. All of the 576 players preferred different items and there was no large significance between the players and the items.\n",
    "\n",
    "\n",
    "- The average purchase a player made in the game was around 3 dollars and the top spendors spent around 3x as much - around 9 dollars for in-game purchases. The total profit from all of the sold items was around 2400 dollars for the total players."
   ]
  }
 ],
 "metadata": {
  "kernelspec": {
   "display_name": "Python 3",
   "language": "python",
   "name": "python3"
  },
  "language_info": {
   "codemirror_mode": {
    "name": "ipython",
    "version": 3
   },
   "file_extension": ".py",
   "mimetype": "text/x-python",
   "name": "python",
   "nbconvert_exporter": "python",
   "pygments_lexer": "ipython3",
   "version": "3.8.5"
  }
 },
 "nbformat": 4,
 "nbformat_minor": 4
}
